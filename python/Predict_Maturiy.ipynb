{
 "cells": [
  {
   "cell_type": "code",
   "execution_count": 1,
   "metadata": {},
   "outputs": [],
   "source": [
    "# Import the necessary modules\n",
    "import os\n",
    "import numpy as np\n",
    "import pandas as pd\n",
    "import torch\n",
    "from tqdm.auto import tqdm\n",
    "from dataset import MyDataset\n",
    "from model import MaturityPrediction"
   ]
  },
  {
   "cell_type": "code",
   "execution_count": 2,
   "metadata": {},
   "outputs": [
    {
     "name": "stdout",
     "output_type": "stream",
     "text": [
      "Model OK\n"
     ]
    }
   ],
   "source": [
    "# Initialize the maturity prediction model:\n",
    "model = MaturityPrediction()\n",
    "\n",
    "# Define the location of the saved weigths:\n",
    "model_path = '../data/model_multi_UIUC.pth'\n",
    "\n",
    "# Load the weigths of the trained model:\n",
    "model.load_state_dict(torch.load('../data/model_2018.pth'))\n",
    "\n",
    "# Set the model in evaluation mode:\n",
    "model.eval()\n",
    "\n",
    "print('Model OK')"
   ]
  },
  {
   "cell_type": "code",
   "execution_count": 3,
   "metadata": {},
   "outputs": [],
   "source": [
    "main_dir = '../examples/'\n",
    "field_codes = ['2018_F01A', '2018_F02A', '2018_F02B', '2019_F03A', '2019_F04A', '2019_F05A', '2020_F06A', '2020_F06B']"
   ]
  },
  {
   "cell_type": "code",
   "execution_count": 4,
   "metadata": {},
   "outputs": [
    {
     "data": {
      "application/vnd.jupyter.widget-view+json": {
       "model_id": "148768556542408299b03ea6e0313cb9",
       "version_major": 2,
       "version_minor": 0
      },
      "text/plain": [
       "HBox(children=(FloatProgress(value=0.0), HTML(value='')))"
      ]
     },
     "metadata": {},
     "output_type": "display_data"
    },
    {
     "name": "stdout",
     "output_type": "stream",
     "text": [
      "\n"
     ]
    },
    {
     "data": {
      "application/vnd.jupyter.widget-view+json": {
       "model_id": "80b48106a6ab4f89b83782b9edfb15c4",
       "version_major": 2,
       "version_minor": 0
      },
      "text/plain": [
       "HBox(children=(FloatProgress(value=0.0), HTML(value='')))"
      ]
     },
     "metadata": {},
     "output_type": "display_data"
    },
    {
     "name": "stdout",
     "output_type": "stream",
     "text": [
      "\n"
     ]
    },
    {
     "data": {
      "application/vnd.jupyter.widget-view+json": {
       "model_id": "eeb021b71c6d4dab8b55c69e39a4b3a3",
       "version_major": 2,
       "version_minor": 0
      },
      "text/plain": [
       "HBox(children=(FloatProgress(value=0.0), HTML(value='')))"
      ]
     },
     "metadata": {},
     "output_type": "display_data"
    },
    {
     "name": "stdout",
     "output_type": "stream",
     "text": [
      "\n"
     ]
    },
    {
     "data": {
      "application/vnd.jupyter.widget-view+json": {
       "model_id": "7f2a679078214643aaf2c0b6260b5dec",
       "version_major": 2,
       "version_minor": 0
      },
      "text/plain": [
       "HBox(children=(FloatProgress(value=0.0), HTML(value='')))"
      ]
     },
     "metadata": {},
     "output_type": "display_data"
    },
    {
     "name": "stdout",
     "output_type": "stream",
     "text": [
      "\n"
     ]
    },
    {
     "data": {
      "application/vnd.jupyter.widget-view+json": {
       "model_id": "8c40714980da41d18f0eeb07dd146ec2",
       "version_major": 2,
       "version_minor": 0
      },
      "text/plain": [
       "HBox(children=(FloatProgress(value=0.0), HTML(value='')))"
      ]
     },
     "metadata": {},
     "output_type": "display_data"
    },
    {
     "name": "stdout",
     "output_type": "stream",
     "text": [
      "\n"
     ]
    },
    {
     "data": {
      "application/vnd.jupyter.widget-view+json": {
       "model_id": "c1fd1f606a7e4ddeabeb3a734bc00839",
       "version_major": 2,
       "version_minor": 0
      },
      "text/plain": [
       "HBox(children=(FloatProgress(value=0.0), HTML(value='')))"
      ]
     },
     "metadata": {},
     "output_type": "display_data"
    },
    {
     "name": "stdout",
     "output_type": "stream",
     "text": [
      "\n"
     ]
    },
    {
     "data": {
      "application/vnd.jupyter.widget-view+json": {
       "model_id": "f52abbb3ecae469db40ad0b702c20f8a",
       "version_major": 2,
       "version_minor": 0
      },
      "text/plain": [
       "HBox(children=(FloatProgress(value=0.0), HTML(value='')))"
      ]
     },
     "metadata": {},
     "output_type": "display_data"
    },
    {
     "name": "stdout",
     "output_type": "stream",
     "text": [
      "\n"
     ]
    },
    {
     "data": {
      "application/vnd.jupyter.widget-view+json": {
       "model_id": "4cdc6fcff66d4eabbd612a28e1f3d89d",
       "version_major": 2,
       "version_minor": 0
      },
      "text/plain": [
       "HBox(children=(FloatProgress(value=0.0), HTML(value='')))"
      ]
     },
     "metadata": {},
     "output_type": "display_data"
    },
    {
     "name": "stdout",
     "output_type": "stream",
     "text": [
      "\n"
     ]
    }
   ],
   "source": [
    "# Loop trough all fields:\n",
    "for field_code in field_codes:\n",
    "\n",
    "    # Directory with the images:\n",
    "    img_dir = f'../../../GDM_2019/data/paper/{field_code}'\n",
    "    \n",
    "    # Create a dataset from the directory path:\n",
    "    test_dataset =  MyDataset(img_dir)\n",
    "\n",
    "    # Create an empty list to store the results:\n",
    "    preds_list = []\n",
    "    \n",
    "    # Get each observation in the dataset:\n",
    "    for Plot_ID, images, img_dates in tqdm(test_dataset):\n",
    "        \n",
    "        # No need to record gradients in prediction\n",
    "        with torch.no_grad():\n",
    "            \n",
    "            # Make the prediction for this set of images:\n",
    "            pred = model(images[None], img_dates)\n",
    "        \n",
    "        # Round the prediction with one decimal place:\n",
    "        pred = np.round(pred.data.item(), 1)\n",
    "        \n",
    "        # Append the ID and the prediciton to the list:\n",
    "        preds_list.append({'Plot_ID':Plot_ID, 'Mat':pred})\n",
    "\n",
    "    # Create a DataFrame from the list:\n",
    "    df_pred = pd.DataFrame(preds_list)\n",
    "    \n",
    "    # Export the results to a CSV file:\n",
    "    df_pred.to_csv(f'{img_dir}.csv', index = False)\n"
   ]
  },
  {
   "cell_type": "code",
   "execution_count": null,
   "metadata": {},
   "outputs": [],
   "source": []
  }
 ],
 "metadata": {
  "kernelspec": {
   "display_name": "Python [conda env:GEOANN]",
   "language": "python",
   "name": "conda-env-GEOANN-py"
  },
  "language_info": {
   "codemirror_mode": {
    "name": "ipython",
    "version": 3
   },
   "file_extension": ".py",
   "mimetype": "text/x-python",
   "name": "python",
   "nbconvert_exporter": "python",
   "pygments_lexer": "ipython3",
   "version": "3.7.6"
  }
 },
 "nbformat": 4,
 "nbformat_minor": 4
}
